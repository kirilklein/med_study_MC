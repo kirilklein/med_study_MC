{
 "cells": [
  {
   "cell_type": "code",
   "execution_count": 9,
   "metadata": {},
   "outputs": [],
   "source": [
    "import numpy as np\n",
    "import pandas as pd\n",
    "import scipy.stats as ss\n",
    "import matplotlib.pyplot as plt\n",
    "import scipy.optimize as so \n",
    "from util import simulate_austin\n",
    "import importlib\n",
    "import proplot as pplt\n",
    "import string"
   ]
  },
  {
   "cell_type": "code",
   "execution_count": 3,
   "metadata": {},
   "outputs": [
    {
     "data": {
      "text/plain": [
       "<module 'util.simulate_austin' from 'd:\\\\Thesis\\\\med_study_MC\\\\util\\\\simulate_austin.py'>"
      ]
     },
     "execution_count": 3,
     "metadata": {},
     "output_type": "execute_result"
    }
   ],
   "source": [
    "importlib.reload(simulate_austin)"
   ]
  },
  {
   "cell_type": "markdown",
   "metadata": {},
   "source": [
    "## Determine beta0_exp"
   ]
  },
  {
   "cell_type": "code",
   "execution_count": 6,
   "metadata": {},
   "outputs": [],
   "source": [
    "def simulate_outcome(X, beta0_exp, beta_exp, exposures,  \n",
    "        al = np.log(1.25),\n",
    "        am = np.log(1.5),\n",
    "        ah = np.log(1.75),\n",
    "        avh = np.log(2)):\n",
    "    \"\"\"Coefficients a_ are same as in austin 2014\"\"\"\n",
    "    exponent = beta0_exp + beta_exp*exposures + al*X[:,1] + al*X[:,2]\\\n",
    "        + am*X[:,4] + am*X[:,5]\\\n",
    "            + ah*X[:,7]+ ah*X[:,8]\\\n",
    "                + avh*X[:,9]\n",
    "    p = 1/(1+np.exp(-exponent))\n",
    "    z = ss.bernoulli.rvs(p=p)\n",
    "    return z"
   ]
  },
  {
   "cell_type": "code",
   "execution_count": 14,
   "metadata": {},
   "outputs": [],
   "source": [
    "def incidence_diff(beta0_exp, X, incidence):\n",
    "    \"\"\"Compute difference between actual and desired exposure prevalence\n",
    "    a0: alpha0 \n",
    "    prevalence: desired prevalence\n",
    "    X: patient variables\"\"\"\n",
    "    z = simulate_outcome(X, beta0_exp, 0, np.zeros(len(X)))\n",
    "    return np.sum(z)/len(z)-incidence\n",
    "\n",
    "def get_beta0_exp(X, incidence, iter=100, a=-10, b=0):\n",
    "    \"\"\"\n",
    "    X: patient variables\n",
    "    incidence: desired incidence\n",
    "    iter: number of iterations\n",
    "    a, b: start interval for bisection [a,b]\n",
    "    Outcome is simulated iter times, assuming no patients are exposed,\n",
    "    For every simulated outcome the difference between true \n",
    "    and desired incidence is returned.\n",
    "    \"\"\"\n",
    "    beta0_exp_res_ls = []\n",
    "    diffs = []\n",
    "    f = lambda y: incidence_diff(y, incidence=incidence, X=X)\n",
    "    for _ in range(iter):\n",
    "        beta0_exp_res = so.bisect(f, a=a, b=b)\n",
    "        diffs.append(f(beta0_exp_res))\n",
    "        beta0_exp_res_ls.append(beta0_exp_res)\n",
    "    return np.median(beta0_exp_res_ls), diffs"
   ]
  },
  {
   "cell_type": "code",
   "execution_count": null,
   "metadata": {},
   "outputs": [],
   "source": [
    "num_pats = 100\n",
    "incidence = 0.1\n",
    "fig, ax = pplt.subplots()\n",
    "for i in range(2):\n",
    "    X = simulate_austin.simulate_pats(string.ascii_lowercase[i], num_patients=100)\n",
    "    b0_med_ls = []\n",
    "    #diffs_ls = []\n",
    "    b0_med, diffs = get_beta0_exp(X, incidence=incidence, iter=100)\n",
    "    b0_med_ls.append(b0_med)\n",
    "    ax.boxplot(y=np.divide(diffs, incidence), positions=i, widths=.04)\n"
   ]
  },
  {
   "cell_type": "code",
   "execution_count": 16,
   "metadata": {},
   "outputs": [
    {
     "data": {
      "text/plain": [
       "[-2.6857233292633964]"
      ]
     },
     "execution_count": 16,
     "metadata": {},
     "output_type": "execute_result"
    }
   ],
   "source": [
    "b0_med_ls"
   ]
  }
 ],
 "metadata": {
  "interpreter": {
   "hash": "0dfe27d1dfb1677ca4e4c08d435a8f52dc8b730889c0549932b532d3dc24e192"
  },
  "kernelspec": {
   "display_name": "Python 3.6.13 ('datascience')",
   "language": "python",
   "name": "python3"
  },
  "language_info": {
   "codemirror_mode": {
    "name": "ipython",
    "version": 3
   },
   "file_extension": ".py",
   "mimetype": "text/x-python",
   "name": "python",
   "nbconvert_exporter": "python",
   "pygments_lexer": "ipython3",
   "version": "3.6.13"
  },
  "orig_nbformat": 4
 },
 "nbformat": 4,
 "nbformat_minor": 2
}
